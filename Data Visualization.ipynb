{
 "cells": [
  {
   "cell_type": "code",
   "execution_count": null,
   "metadata": {},
   "outputs": [],
   "source": [
    "library(ggplot2)\n",
    "\n",
    "gapminder_2007 <- gapminder %>%\n",
    "  filter(year ==2007)\n",
    "  \n",
    "ggplot(gapminder_2007, aes(x = gdpPerCap, y = lifeExp)) + geom_point())"
   ]
  },
  {
   "cell_type": "markdown",
   "metadata": {},
   "source": [
    "geom means adding a type of geometric to graph"
   ]
  },
  {
   "cell_type": "markdown",
   "metadata": {},
   "source": [
    "# Variable assignment\n",
    "\n",
    "Throughout the exercises in this chapter, you'll be visualizing a subset of the gapminder data from the year 1952. First, you'll have to load the ggplot2 package, and create a gapminder_1952 dataset to visualize."
   ]
  },
  {
   "cell_type": "code",
   "execution_count": null,
   "metadata": {},
   "outputs": [],
   "source": [
    "# Load the ggplot2 package as well\n",
    "library(gapminder)\n",
    "library(dplyr)\n",
    "library(ggplot2)\n",
    "\n",
    "# Create gapminder_1952\n",
    "gapminder_1952 <- gapminder %>%\n",
    "  filter(year==1952)"
   ]
  },
  {
   "cell_type": "markdown",
   "metadata": {},
   "source": [
    "# Comparing population and GDP per capita\n",
    "\n",
    "In the video you learned to create a scatter plot with GDP per capita on the x-axis and life expectancy on the y-axis (the code for that graph is shown here). When you're exploring data visually, you'll often need to try different combinations of variables and aesthetics."
   ]
  },
  {
   "cell_type": "code",
   "execution_count": null,
   "metadata": {},
   "outputs": [],
   "source": [
    "library(gapminder)\n",
    "library(dplyr)\n",
    "library(ggplot2)\n",
    "\n",
    "gapminder_1952 <- gapminder %>%\n",
    "  filter(year == 1952)\n",
    "\n",
    "# Change to put pop on the x-axis and gdpPercap on the y-axis\n",
    "ggplot(gapminder_1952, aes(x = pop, y = gdpPercap)) +\n",
    "  geom_point()"
   ]
  },
  {
   "cell_type": "markdown",
   "metadata": {},
   "source": [
    "# Comparing population and life expectancy\n",
    "\n",
    "In this exercise, you'll use ggplot2 to create a scatter plot from scratch, to compare each country's population with its life expectancy in the year 1952."
   ]
  },
  {
   "cell_type": "code",
   "execution_count": null,
   "metadata": {},
   "outputs": [],
   "source": [
    "library(gapminder)\n",
    "library(dplyr)\n",
    "library(ggplot2)\n",
    "\n",
    "gapminder_1952 <- gapminder %>%\n",
    "  filter(year == 1952)\n",
    "\n",
    "# Create a scatter plot with pop on the x-axis and lifeExp on the y-axis\n",
    "ggplot(gapminder_1952, aes(x = pop, y = lifeExp)) + geom_point()"
   ]
  },
  {
   "cell_type": "markdown",
   "metadata": {},
   "source": [
    "You might notice the points are crowded towards the left side of the plot, making them hard to distinguish. This next video will help solve that problem."
   ]
  },
  {
   "cell_type": "markdown",
   "metadata": {},
   "source": [
    "# Putting the x-axis on a log scale\n",
    "\n",
    "You previously created a scatter plot with population on the x-axis and life expectancy on the y-axis. Since population is spread over several orders of magnitude, with some countries having a much higher population than others, it's a good idea to put the x-axis on a log scale."
   ]
  },
  {
   "cell_type": "code",
   "execution_count": null,
   "metadata": {},
   "outputs": [],
   "source": [
    "library(gapminder)\n",
    "library(dplyr)\n",
    "library(ggplot2)\n",
    "\n",
    "gapminder_1952 <- gapminder %>%\n",
    "  filter(year == 1952)\n",
    "\n",
    "# Change this plot to put the x-axis on a log scale\n",
    "ggplot(gapminder_1952, aes(x = pop, y = lifeExp)) +\n",
    "  geom_point() + scale_x_log10()"
   ]
  },
  {
   "cell_type": "markdown",
   "metadata": {},
   "source": [
    "Notice the points are more spread out on the x-axis. This makes it easy to see that there isn't a correlation between population and life expectancy."
   ]
  },
  {
   "cell_type": "markdown",
   "metadata": {},
   "source": [
    "# Putting the x- and y- axes on a log scale\n",
    "\n",
    "Suppose you want to create a scatter plot with population on the x-axis and GDP per capita on the y-axis. Both population and GDP per-capita are better represented with log scales, since they vary over many orders of magnitude."
   ]
  },
  {
   "cell_type": "code",
   "execution_count": null,
   "metadata": {},
   "outputs": [],
   "source": [
    "library(gapminder)\n",
    "library(dplyr)\n",
    "library(ggplot2)\n",
    "\n",
    "gapminder_1952 <- gapminder %>%\n",
    "  filter(year == 1952)\n",
    "\n",
    "# Scatter plot comparing pop and gdpPercap, with both axes on a log scale\n",
    "ggplot(gapminder_1952, aes(x = pop, y = gdpPercap)) +\n",
    "  geom_point() + scale_x_log10() + scale_y_log10()"
   ]
  },
  {
   "cell_type": "markdown",
   "metadata": {},
   "source": [
    "Notice that the y-axis goes from 1e3 (1000) to 1e4 (10,000) to 1e5 (100,000) in equal increments."
   ]
  },
  {
   "cell_type": "markdown",
   "metadata": {},
   "source": [
    "# Adding color to a scatter plot\n",
    "\n",
    "In this lesson you learned how to use the color aesthetic, which can be used to show which continent each point in a scatter plot represents."
   ]
  },
  {
   "cell_type": "code",
   "execution_count": null,
   "metadata": {},
   "outputs": [],
   "source": [
    "library(gapminder)\n",
    "library(dplyr)\n",
    "library(ggplot2)\n",
    "\n",
    "gapminder_1952 <- gapminder %>%\n",
    "  filter(year == 1952)\n",
    "\n",
    "# Scatter plot comparing pop and lifeExp, with color representing continent\n",
    "ggplot(gapminder_1952, aes(x = pop, y = lifeExp, color = continent)) +\n",
    "  geom_point() + scale_x_log10()"
   ]
  },
  {
   "cell_type": "markdown",
   "metadata": {},
   "source": [
    "What differences can you see between continents, in terms of their population and life expectancy?"
   ]
  },
  {
   "cell_type": "markdown",
   "metadata": {},
   "source": [
    "# Adding size and color to a plot\n",
    "\n",
    "In the last exercise, you created a scatter plot communicating information about each country's population, life expectancy, and continent. Now you'll use the size of the points to communicate even more."
   ]
  },
  {
   "cell_type": "code",
   "execution_count": null,
   "metadata": {},
   "outputs": [],
   "source": [
    "library(gapminder)\n",
    "library(dplyr)\n",
    "library(ggplot2)\n",
    "\n",
    "gapminder_1952 <- gapminder %>%\n",
    "  filter(year == 1952)\n",
    "\n",
    "# Add the size aesthetic to represent a country's gdpPercap\n",
    "ggplot(gapminder_1952, aes(x = pop, y = lifeExp, color = continent, size = gdpPercap)) +\n",
    "  geom_point() +\n",
    "  scale_x_log10()"
   ]
  },
  {
   "cell_type": "markdown",
   "metadata": {},
   "source": [
    "# Creating a subgraph for each continent\n",
    "\n",
    "You've learned to use faceting to divide a graph into subplots based on one of its variables, such as the continent."
   ]
  },
  {
   "cell_type": "code",
   "execution_count": null,
   "metadata": {},
   "outputs": [],
   "source": [
    "library(gapminder)\n",
    "library(dplyr)\n",
    "library(ggplot2)\n",
    "\n",
    "gapminder_1952 <- gapminder %>%\n",
    "  filter(year == 1952)\n",
    "\n",
    "# Scatter plot comparing pop and lifeExp, faceted by continent\n",
    "ggplot(gapminder_1952, aes(x = pop, y = lifeExp)) + geom_point() + scale_x_log10() + facet_wrap(~ continent)"
   ]
  },
  {
   "cell_type": "markdown",
   "metadata": {},
   "source": [
    "# Faceting by year\n",
    "\n",
    "All of the graphs in this chapter have been visualizing statistics within one year. Now that you're able to use faceting, however, you can create a graph showing all the country-level data from 1952 to 2007, to understand how global statistics have changed over time."
   ]
  },
  {
   "cell_type": "code",
   "execution_count": null,
   "metadata": {},
   "outputs": [],
   "source": [
    "library(gapminder)\n",
    "library(dplyr)\n",
    "library(ggplot2)\n",
    "\n",
    "# Scatter plot comparing gdpPercap and lifeExp, with color representing continent\n",
    "# and size representing population, faceted by year\n",
    "ggplot(gapminder, aes(x = gdpPercap, y = lifeExp, color = continent, size = pop)) + \n",
    "    geom_point() + \n",
    "    scale_x_log10() + \n",
    "    facet_wrap(~ year)"
   ]
  }
 ],
 "metadata": {
  "kernelspec": {
   "display_name": "R",
   "language": "R",
   "name": "ir"
  },
  "language_info": {
   "codemirror_mode": "r",
   "file_extension": ".r",
   "mimetype": "text/x-r-source",
   "name": "R",
   "pygments_lexer": "r",
   "version": "3.4.3"
  }
 },
 "nbformat": 4,
 "nbformat_minor": 2
}
